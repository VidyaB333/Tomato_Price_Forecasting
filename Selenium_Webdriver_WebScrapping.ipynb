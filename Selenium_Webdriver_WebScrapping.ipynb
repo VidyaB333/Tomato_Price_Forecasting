{
 "cells": [
  {
   "cell_type": "code",
   "execution_count": 7,
   "metadata": {},
   "outputs": [],
   "source": [
    "# Loading important Libraries\n",
    "\n",
    "import time\n",
    "from selenium import webdriver\n",
    "from selenium.webdriver.common.keys import Keys\n",
    "from selenium.webdriver.support.ui import Select\n",
    "\n",
    "options = webdriver.ChromeOptions()\n",
    "preferences= {\"download.default_directory\": \"C:\\\\Users\\\\vidya\\\\OneDrive\\\\Desktop\\\\python\"}\n",
    "options.add_experimental_option(\"prefs\", preferences)\n",
    "\n",
    "# Providing .exe file path to webdriver\n",
    "driver = webdriver.Chrome(executable_path=r\"C:\\Users\\vidya\\Downloads\\chromedriver_win32\\chromedriver.exe\")"
   ]
  },
  {
   "cell_type": "code",
   "execution_count": 8,
   "metadata": {},
   "outputs": [],
   "source": [
    "#url to wrok on \n",
    "driver.get(\n",
    "    r\"https://agmarknet.gov.in/SearchCmmMkt.aspx?Tx_Commodity=78&Tx_State=KK&Tx_District=0&Tx_Market=0&DateFrom=01-Jan-2015&DateTo=01-Feb-2021&Fr_Date=01-Jan-2015&To_Date=01-Feb-2021&Tx_Trend=0&Tx_CommodityHead=Tomato&Tx_StateHead=Karnataka&Tx_DistrictHead=--Select--&Tx_MarketHead=--Select--\")\n",
    "pageTitle = driver.title\n",
    "driver.implicitly_wait(5)\n",
    "\n",
    "#Checking webpage has mentioned title\n",
    "assert \"Agriculture Marketing\" in pageTitle"
   ]
  },
  {
   "cell_type": "code",
   "execution_count": 9,
   "metadata": {},
   "outputs": [],
   "source": [
    "\n",
    "#Maximize the window\n",
    "driver.maximize_window()\n",
    "\n",
    "time.sleep(3)\n"
   ]
  },
  {
   "cell_type": "code",
   "execution_count": 10,
   "metadata": {},
   "outputs": [],
   "source": [
    "#Locating the commodity dropdown.\n",
    "#Tomato value is already seleted. Selected Tinda then Tomato so that we can know whether webdrive is locating element is correct or not.\n",
    "\n",
    "commodity = driver.find_element_by_xpath(\"//select[@id= 'ddlCommodity']\")\n",
    "commodity_drp = Select(commodity)\n",
    "commodity_drp.select_by_visible_text('Tinda')\n",
    "\n",
    "time.sleep(3)\n",
    "\n",
    "#driver.implicitly_wait(100)\n",
    "commodity = driver.find_element_by_xpath(\"//select[@id= 'ddlCommodity']\")\n",
    "commodity_drp = Select(commodity)\n",
    "commodity_drp.select_by_visible_text('Tomato')\n",
    "\n",
    "time.sleep(5)\n"
   ]
  },
  {
   "cell_type": "code",
   "execution_count": 11,
   "metadata": {},
   "outputs": [
    {
     "name": "stdout",
     "output_type": "stream",
     "text": [
      "Im waiting\n"
     ]
    }
   ],
   "source": [
    "#Locating the state dropdown\n",
    "\n",
    "state_drp =Select(driver.find_element_by_xpath(\"//select[@id='ddlState']\")).select_by_visible_text('Kerala')\n",
    "time.sleep(5)\n",
    "state_drp =Select(driver.find_element_by_xpath(\"//select[@id='ddlState']\")).select_by_visible_text('Karnataka')\n",
    "#wait = WebDriverWait(driver, 20)\n",
    "#driver.implicitly_wait(1000)\n",
    "time.sleep(5)\n",
    "print('Im waiting')\n",
    "\n"
   ]
  },
  {
   "cell_type": "code",
   "execution_count": 12,
   "metadata": {},
   "outputs": [
    {
     "name": "stdout",
     "output_type": "stream",
     "text": [
      "Added from date\n",
      "Added to date\n",
      "Added to date\n"
     ]
    }
   ],
   "source": [
    "#Adding the details to datepicker webelement \n",
    "#driver.navigate().refersh();\n",
    "\n",
    "#From date \n",
    "from_date = driver.find_element_by_xpath(\"//input[@id= 'txtDate']\")\n",
    "from_date.click()\n",
    "from_date.send_keys(Keys.CONTROL, \"a\") # Select all pre-existing text/input value\n",
    "from_date.send_keys(Keys.BACKSPACE)    # Remove that text\n",
    "from_date.send_keys(\"01-Mar-2015\")\n",
    "\n",
    "from_date = driver.find_element_by_xpath(\"//input[@id= 'txtDate']\")\n",
    "from_date.click()\n",
    "from_date.send_keys(Keys.CONTROL, \"a\") # Select all pre-existing text/input value\n",
    "from_date.send_keys(Keys.BACKSPACE)    # Remove that text\n",
    "from_date.send_keys(\"01-Jan-2015\")\n",
    "\n",
    "print('Added from date')\n",
    "\n",
    "# To date\n",
    "\n",
    "driver.implicitly_wait(1000)\n",
    "#mm-dd-yyyy\n",
    "to_date = driver.find_element_by_xpath(\"//input[@id= 'txtDateTo']\")\n",
    "to_date.click()\n",
    "to_date.send_keys(Keys.CONTROL, \"a\") # Select all pre-existing text/input value\n",
    "to_date.send_keys(Keys.BACKSPACE)    # Remove that text\n",
    "to_date.send_keys(\"01-Apr-2021\")        # Add desired text/set input value\n",
    "print('Added to date')\n",
    "driver.implicitly_wait(1000)\n",
    "\n",
    "\n",
    "\n",
    "to_date = driver.find_element_by_xpath(\"//input[@id= 'txtDateTo']\")\n",
    "to_date.click()\n",
    "to_date.send_keys(Keys.CONTROL, \"a\") # Select all pre-existing text/input value\n",
    "to_date.send_keys(Keys.BACKSPACE)    # Remove that text\n",
    "to_date.send_keys(\"01-Feb-2021\")        # Add desired text/set input value\n",
    "print('Added to date')\n",
    "driver.implicitly_wait(1000)\n",
    "\n"
   ]
  },
  {
   "cell_type": "code",
   "execution_count": 13,
   "metadata": {},
   "outputs": [],
   "source": [
    "#Clicking on go submit button\n",
    "driver.find_element_by_xpath(\"//input[@value='Go']\").click()\n",
    "driver.implicitly_wait(1000)\n",
    "\n",
    "#element = driver.find_element_by_xpath(\"//span[@id ='lblWait']\").text\n",
    "#assert element\n"
   ]
  },
  {
   "cell_type": "code",
   "execution_count": 14,
   "metadata": {},
   "outputs": [
    {
     "name": "stdout",
     "output_type": "stream",
     "text": [
      "Excel clicked\n"
     ]
    }
   ],
   "source": [
    "time.sleep(5)\n",
    "\n",
    "try:\n",
    "    driver.find_element_by_xpath('//input[@id =\"cphBody_ButtonExcel\"]').click()\n",
    "    print('Excel clicked')\n",
    "except:\n",
    "    print('Excel NOT clicked')\n",
    "\n",
    "time.sleep(30)\n"
   ]
  },
  {
   "cell_type": "code",
   "execution_count": 15,
   "metadata": {},
   "outputs": [],
   "source": [
    "driver.quit()\n"
   ]
  },
  {
   "cell_type": "code",
   "execution_count": null,
   "metadata": {},
   "outputs": [],
   "source": []
  },
  {
   "cell_type": "code",
   "execution_count": null,
   "metadata": {},
   "outputs": [],
   "source": []
  }
 ],
 "metadata": {
  "kernelspec": {
   "display_name": "Python 3",
   "language": "python",
   "name": "python3"
  },
  "language_info": {
   "codemirror_mode": {
    "name": "ipython",
    "version": 3
   },
   "file_extension": ".py",
   "mimetype": "text/x-python",
   "name": "python",
   "nbconvert_exporter": "python",
   "pygments_lexer": "ipython3",
   "version": "3.8.5"
  }
 },
 "nbformat": 4,
 "nbformat_minor": 4
}
